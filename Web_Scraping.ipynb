{
 "cells": [
  {
   "cell_type": "markdown",
   "metadata": {
    "slideshow": {
     "slide_type": "slide"
    }
   },
   "source": [
    "## Web Scraping using Selenium"
   ]
  },
  {
   "cell_type": "markdown",
   "metadata": {
    "slideshow": {
     "slide_type": "slide"
    }
   },
   "source": [
    "Selenium is a portable framework for testing web applications. Selenium provides a playback tool for authoring functional tests without the need to learn a test scripting language. It can also be used to scrape data from web windows. For further details please refer https://www.guru99.com/selenium-tutorial.html\n",
    "\n",
    "**Youtube** : \n",
    "To get an overall understanding of webscraping please watch https://youtu.be/nN0OD6HLDJk"
   ]
  },
  {
   "cell_type": "code",
   "execution_count": 9,
   "metadata": {
    "scrolled": true,
    "slideshow": {
     "slide_type": "slide"
    },
    "tags": [
     "hide-input"
    ]
   },
   "outputs": [
    {
     "data": {
      "text/html": [
       "<iframe width=\"980\" height=\"340\" src=\"https://www.youtube.com/embed/nN0OD6HLDJk\" title=\"YouTube video player\" frameborder=\"0\" allow=\"accelerometer; autoplay; clipboard-write; encrypted-media; gyroscope; picture-in-picture\" allowfullscreen></iframe>"
      ],
      "text/plain": [
       "<IPython.core.display.HTML object>"
      ]
     },
     "execution_count": 9,
     "metadata": {},
     "output_type": "execute_result"
    }
   ],
   "source": [
    "from IPython.display import HTML\n",
    "import warnings\n",
    "warnings.filterwarnings('ignore')\n",
    "\n",
    "# Youtube\n",
    "HTML('<iframe width=\"980\" height=\"340\" src=\"https://www.youtube.com/embed/nN0OD6HLDJk\" title=\"YouTube video player\" frameborder=\"0\" allow=\"accelerometer; autoplay; clipboard-write; encrypted-media; gyroscope; picture-in-picture\" allowfullscreen></iframe>')"
   ]
  },
  {
   "cell_type": "markdown",
   "metadata": {
    "slideshow": {
     "slide_type": "slide"
    }
   },
   "source": [
    "## Scraping IPL data for most runs across season from iplt20.com\n",
    "***\n",
    "This file mostly focuses on scraping IPL data from iplt20.com using selenium as a driver. We are extracting data for **Most Runs** and **Most Wickets** across season from all the teams.\n",
    "***"
   ]
  },
  {
   "cell_type": "markdown",
   "metadata": {},
   "source": [
    "<img src=\"https://cloudfront.timesnownews.com/media/Orange_32.jpg\" width=\"1000\" />"
   ]
  },
  {
   "cell_type": "markdown",
   "metadata": {
    "slideshow": {
     "slide_type": "slide"
    }
   },
   "source": [
    "## Installing selenium package"
   ]
  },
  {
   "cell_type": "code",
   "execution_count": 2,
   "metadata": {
    "slideshow": {
     "slide_type": "slide"
    }
   },
   "outputs": [
    {
     "name": "stdout",
     "output_type": "stream",
     "text": [
      "Requirement already satisfied: selenium in c:\\users\\kush\\anaconda3\\lib\\site-packages (3.141.0)\n",
      "Requirement already satisfied: urllib3 in c:\\users\\kush\\anaconda3\\lib\\site-packages (from selenium) (1.25.8)\n"
     ]
    }
   ],
   "source": [
    "# Installing selenium\n",
    "'''\n",
    "use this pip install to download the packages of selenium \n",
    "'''\n",
    "! pip install selenium"
   ]
  },
  {
   "cell_type": "markdown",
   "metadata": {
    "slideshow": {
     "slide_type": "slide"
    }
   },
   "source": [
    "## Importing Libraries"
   ]
  },
  {
   "cell_type": "code",
   "execution_count": 5,
   "metadata": {
    "slideshow": {
     "slide_type": "slide"
    }
   },
   "outputs": [],
   "source": [
    "'''\n",
    "Importing important libraries that we'd require in the further process\n",
    "'''\n",
    "\n",
    "from time import sleep\n",
    "import sys\n",
    "import pandas as pd \n",
    "import numpy as np\n",
    "import re\n",
    "from selenium import webdriver\n",
    "from selenium.webdriver.common.keys import Keys\n",
    "import smtplib\n",
    "from email.mime.multipart import MIMEMultipart\n",
    "from email.mime.text import MIMEText\n",
    "from email.mime.base import MIMEBase\n",
    "from email import encoders"
   ]
  },
  {
   "cell_type": "markdown",
   "metadata": {
    "slideshow": {
     "slide_type": "slide"
    }
   },
   "source": [
    "## Chrome Driver path"
   ]
  },
  {
   "cell_type": "code",
   "execution_count": 6,
   "metadata": {
    "slideshow": {
     "slide_type": "subslide"
    }
   },
   "outputs": [],
   "source": [
    "'''\n",
    "Passing path of the chrome webdriver\n",
    "'''\n",
    "chromedriver_path = r'C:\\Users\\KUSH\\Desktop\\WebScraping\\chromedriver.exe'"
   ]
  },
  {
   "cell_type": "code",
   "execution_count": 4,
   "metadata": {
    "slideshow": {
     "slide_type": "slide"
    }
   },
   "outputs": [],
   "source": [
    "'''\n",
    "driver initiates the session for the chrome webdriver\n",
    "An automated way to visit to a specific page. Mostly used when page asks you to log in  \n",
    "'''\n",
    "\n",
    "driver = webdriver.Chrome(executable_path=chromedriver_path)\n",
    "# driver.maximize_window()\n",
    "# sleep(10)\n",
    "# driver.get(\"https://www.iplt20.com\")\n",
    "# sleep(10)\n",
    "# driver.find_elements_by_xpath(\"//div[contains(@class, 'main-nav__drop-down')]\")[2].click()\n",
    "# sleep(2)\n",
    "# driver.find_elements_by_xpath(\"//a[contains(@class, 'main-nav__link') and contains(text(), 'By Season')]\")[0].click()\n",
    "# sleep(5)\n"
   ]
  },
  {
   "cell_type": "markdown",
   "metadata": {},
   "source": [
    "## Defining page_scrape() function that will perform the scraping\n",
    "\n",
    "\n",
    "\n"
   ]
  },
  {
   "cell_type": "markdown",
   "metadata": {
    "slideshow": {
     "slide_type": "slide"
    }
   },
   "source": [
    "**page_scrape()** is a function defined that will scrape the data from the table present on the selected **URL**. It takes two arguments:\n",
    "- **Season**\n",
    "- **Dataframe**\n",
    "\n",
    "Season : Since we have data starting from 2008 till 2021 on iplt20.com, we'd run the given function for all those years\n",
    "***\n",
    "Dataframe : We'd like to extract two different sets of data i.e. \"Most Runs\" and \"Most Wickets\"\n",
    "***"
   ]
  },
  {
   "cell_type": "code",
   "execution_count": 21,
   "metadata": {
    "slideshow": {
     "slide_type": "slide"
    }
   },
   "outputs": [],
   "source": [
    "'''\n",
    "Defining main function for scraping data. This function will scrape all the texts from the data and store it into a dataframe\n",
    "by appending it on an iterative call\n",
    "'''\n",
    "\n",
    "def get_text(webelement): #this will eliminate the next line tag and create the name as one. ex \"Shikhar\\nDhawan\" -> Shikhar Dhawan\n",
    "    return webelement.get_attribute(\"innerText\").replace(\"\\n\", \" \")\n",
    "\n",
    "def page_scrape(season, df): \n",
    "    '''\n",
    "    Functions to scrape a page details for a particular year. This takes two arguments:\n",
    "    1. Season -> year from which you want to scrape the data\n",
    "    2. df -> Dataframe (An empty dataframe) \n",
    "    '''\n",
    "    \n",
    "    table_rows = driver.find_elements_by_xpath(\"//table//tr[contains(@class, 'js-row')]\")\n",
    "    for ele in table_rows :\n",
    "        row_data = list(map(get_text, ele.find_elements_by_tag_name(\"td\")))\n",
    "        if (row_data[0]=='1'):\n",
    "            row_data.extend([ele.get_attribute('data-nationality'), season, ele.get_attribute('class').split()[2]])\n",
    "        else:\n",
    "            row_data.extend([ele.get_attribute('data-nationality'), season, ele.get_attribute('class').split()[1]])\n",
    "        df.loc[len(df)] = row_data\n"
   ]
  },
  {
   "cell_type": "markdown",
   "metadata": {
    "slideshow": {
     "slide_type": "slide"
    }
   },
   "source": [
    "## Scraping data of most runs across years in IPL \n",
    "\n",
    "****\n",
    "This is calling the page_scrape function to scrape data from the table for the **MOST RUNS**\n",
    "****\n"
   ]
  },
  {
   "cell_type": "code",
   "execution_count": 24,
   "metadata": {
    "slideshow": {
     "slide_type": "slide"
    }
   },
   "outputs": [
    {
     "name": "stdout",
     "output_type": "stream",
     "text": [
      "Data scraping completed for year \u001b[0;37;40m 2008 "
     ]
    }
   ],
   "source": [
    "'''\n",
    "Since this IPL website doesn't as for any login id or password, we can extract out data from the URL of the \n",
    "page where table is present.\n",
    "'''\n",
    "'''\n",
    "This snippet will scrape data for the most runs by players from all the team across different seasons of IPL\n",
    "'''\n",
    "\n",
    "season_url = \"https://www.iplt20.com/stats/{}/most-runs\"\n",
    "driver.get(\"https://www.iplt20.com/stats/{}/most-runs\".format('2021'))\n",
    "\n",
    "table_heading = driver.find_element_by_xpath(\"//table//tr[contains(@class, 'top-players__header')]\")\n",
    "globals()['column_values'] = list(table_heading.get_attribute(\"innerText\").split())\n",
    "column_values.extend(['Nationality', 'Season', 'Team'])\n",
    "\n",
    "df_runs = pd.DataFrame(columns = column_values)\n",
    "\n",
    "for season in range(2021, 2007, -1):\n",
    "    driver.get(season_url.format(season))\n",
    "    page_scrape(season, df_runs)\n",
    "    sys.stdout.write('\\rData scraping completed for year \\033[0;37;40m %d ' %season)\n",
    "    sys.stdout.flush()"
   ]
  },
  {
   "cell_type": "code",
   "execution_count": 25,
   "metadata": {
    "slideshow": {
     "slide_type": "slide"
    }
   },
   "outputs": [
    {
     "data": {
      "text/html": [
       "<div>\n",
       "<style scoped>\n",
       "    .dataframe tbody tr th:only-of-type {\n",
       "        vertical-align: middle;\n",
       "    }\n",
       "\n",
       "    .dataframe tbody tr th {\n",
       "        vertical-align: top;\n",
       "    }\n",
       "\n",
       "    .dataframe thead th {\n",
       "        text-align: right;\n",
       "    }\n",
       "</style>\n",
       "<table border=\"1\" class=\"dataframe\">\n",
       "  <thead>\n",
       "    <tr style=\"text-align: right;\">\n",
       "      <th></th>\n",
       "      <th>POS</th>\n",
       "      <th>PLAYER</th>\n",
       "      <th>Mat</th>\n",
       "      <th>Inns</th>\n",
       "      <th>NO</th>\n",
       "      <th>Runs</th>\n",
       "      <th>HS</th>\n",
       "      <th>Avg</th>\n",
       "      <th>BF</th>\n",
       "      <th>SR</th>\n",
       "      <th>100</th>\n",
       "      <th>50</th>\n",
       "      <th>4s</th>\n",
       "      <th>6s</th>\n",
       "      <th>Nationality</th>\n",
       "      <th>Season</th>\n",
       "      <th>Team</th>\n",
       "      <th>status</th>\n",
       "    </tr>\n",
       "  </thead>\n",
       "  <tbody>\n",
       "    <tr>\n",
       "      <th>0</th>\n",
       "      <td>1</td>\n",
       "      <td>Shikhar Dhawan</td>\n",
       "      <td>8</td>\n",
       "      <td>8</td>\n",
       "      <td>1</td>\n",
       "      <td>380</td>\n",
       "      <td>92</td>\n",
       "      <td>54.28</td>\n",
       "      <td>283</td>\n",
       "      <td>134.27</td>\n",
       "      <td>0</td>\n",
       "      <td>3</td>\n",
       "      <td>43</td>\n",
       "      <td>8</td>\n",
       "      <td>Indian</td>\n",
       "      <td>2021</td>\n",
       "      <td>DC</td>\n",
       "      <td>Out</td>\n",
       "    </tr>\n",
       "    <tr>\n",
       "      <th>1</th>\n",
       "      <td>2</td>\n",
       "      <td>KL Rahul</td>\n",
       "      <td>7</td>\n",
       "      <td>7</td>\n",
       "      <td>2</td>\n",
       "      <td>331</td>\n",
       "      <td>91*</td>\n",
       "      <td>66.20</td>\n",
       "      <td>243</td>\n",
       "      <td>136.21</td>\n",
       "      <td>0</td>\n",
       "      <td>4</td>\n",
       "      <td>27</td>\n",
       "      <td>16</td>\n",
       "      <td>Indian</td>\n",
       "      <td>2021</td>\n",
       "      <td>PBKS</td>\n",
       "      <td>Not Out</td>\n",
       "    </tr>\n",
       "    <tr>\n",
       "      <th>2</th>\n",
       "      <td>3</td>\n",
       "      <td>Faf du Plessis</td>\n",
       "      <td>7</td>\n",
       "      <td>7</td>\n",
       "      <td>2</td>\n",
       "      <td>320</td>\n",
       "      <td>95*</td>\n",
       "      <td>64.00</td>\n",
       "      <td>220</td>\n",
       "      <td>145.45</td>\n",
       "      <td>0</td>\n",
       "      <td>4</td>\n",
       "      <td>29</td>\n",
       "      <td>13</td>\n",
       "      <td>Overseas</td>\n",
       "      <td>2021</td>\n",
       "      <td>CSK</td>\n",
       "      <td>Not Out</td>\n",
       "    </tr>\n",
       "    <tr>\n",
       "      <th>3</th>\n",
       "      <td>4</td>\n",
       "      <td>Prithvi Shaw</td>\n",
       "      <td>8</td>\n",
       "      <td>8</td>\n",
       "      <td>0</td>\n",
       "      <td>308</td>\n",
       "      <td>82</td>\n",
       "      <td>38.50</td>\n",
       "      <td>185</td>\n",
       "      <td>166.48</td>\n",
       "      <td>0</td>\n",
       "      <td>3</td>\n",
       "      <td>37</td>\n",
       "      <td>12</td>\n",
       "      <td>Indian</td>\n",
       "      <td>2021</td>\n",
       "      <td>DC</td>\n",
       "      <td>Out</td>\n",
       "    </tr>\n",
       "    <tr>\n",
       "      <th>4</th>\n",
       "      <td>5</td>\n",
       "      <td>Sanju Samson</td>\n",
       "      <td>7</td>\n",
       "      <td>7</td>\n",
       "      <td>1</td>\n",
       "      <td>277</td>\n",
       "      <td>119</td>\n",
       "      <td>46.16</td>\n",
       "      <td>190</td>\n",
       "      <td>145.78</td>\n",
       "      <td>1</td>\n",
       "      <td>0</td>\n",
       "      <td>26</td>\n",
       "      <td>11</td>\n",
       "      <td>Indian</td>\n",
       "      <td>2021</td>\n",
       "      <td>RR</td>\n",
       "      <td>Out</td>\n",
       "    </tr>\n",
       "  </tbody>\n",
       "</table>\n",
       "</div>"
      ],
      "text/plain": [
       "  POS           PLAYER Mat Inns NO Runs   HS    Avg   BF      SR 100 50  4s  \\\n",
       "0   1   Shikhar Dhawan   8    8  1  380   92  54.28  283  134.27   0  3  43   \n",
       "1   2         KL Rahul   7    7  2  331  91*  66.20  243  136.21   0  4  27   \n",
       "2   3   Faf du Plessis   7    7  2  320  95*  64.00  220  145.45   0  4  29   \n",
       "3   4     Prithvi Shaw   8    8  0  308   82  38.50  185  166.48   0  3  37   \n",
       "4   5     Sanju Samson   7    7  1  277  119  46.16  190  145.78   1  0  26   \n",
       "\n",
       "   6s Nationality Season  Team   status  \n",
       "0   8      Indian   2021    DC      Out  \n",
       "1  16      Indian   2021  PBKS  Not Out  \n",
       "2  13    Overseas   2021   CSK  Not Out  \n",
       "3  12      Indian   2021    DC      Out  \n",
       "4  11      Indian   2021    RR      Out  "
      ]
     },
     "execution_count": 25,
     "metadata": {},
     "output_type": "execute_result"
    }
   ],
   "source": [
    "# Adding an extra column named 'Status' that will tell us whether the player was out when he made the highest score of the\n",
    "# season\n",
    "\n",
    "df_runs['status']=np.where(df_runs['HS'].str.contains(r'[*]'),'Not Out','Out') # define \"NOT OUT\" based on the given expression \n",
    "df_runs.head() #Displaying top 5 rows from the dataframe"
   ]
  },
  {
   "cell_type": "markdown",
   "metadata": {
    "slideshow": {
     "slide_type": "slide"
    }
   },
   "source": [
    "## Scraping data of most wickets across years in IPL \n",
    "\n",
    "***\n",
    "This is calling the page_scrape function to scrape data from the table for the **MOST WICKETS**\n",
    "***\n"
   ]
  },
  {
   "cell_type": "code",
   "execution_count": 26,
   "metadata": {
    "slideshow": {
     "slide_type": "slide"
    }
   },
   "outputs": [
    {
     "name": "stdout",
     "output_type": "stream",
     "text": [
      "Data scraping completed for year \u001b[0;37;40m 2008 "
     ]
    },
    {
     "data": {
      "text/html": [
       "<div>\n",
       "<style scoped>\n",
       "    .dataframe tbody tr th:only-of-type {\n",
       "        vertical-align: middle;\n",
       "    }\n",
       "\n",
       "    .dataframe tbody tr th {\n",
       "        vertical-align: top;\n",
       "    }\n",
       "\n",
       "    .dataframe thead th {\n",
       "        text-align: right;\n",
       "    }\n",
       "</style>\n",
       "<table border=\"1\" class=\"dataframe\">\n",
       "  <thead>\n",
       "    <tr style=\"text-align: right;\">\n",
       "      <th></th>\n",
       "      <th>POS</th>\n",
       "      <th>PLAYER</th>\n",
       "      <th>Mat</th>\n",
       "      <th>Inns</th>\n",
       "      <th>Ov</th>\n",
       "      <th>Runs</th>\n",
       "      <th>Wkts</th>\n",
       "      <th>BBI</th>\n",
       "      <th>Avg</th>\n",
       "      <th>Econ</th>\n",
       "      <th>SR</th>\n",
       "      <th>4w</th>\n",
       "      <th>5w</th>\n",
       "      <th>Nationality</th>\n",
       "      <th>Season</th>\n",
       "      <th>Team</th>\n",
       "    </tr>\n",
       "  </thead>\n",
       "  <tbody>\n",
       "    <tr>\n",
       "      <th>0</th>\n",
       "      <td>1</td>\n",
       "      <td>Harshal Patel</td>\n",
       "      <td>7</td>\n",
       "      <td>7</td>\n",
       "      <td>28</td>\n",
       "      <td>257</td>\n",
       "      <td>17</td>\n",
       "      <td>5/27</td>\n",
       "      <td>15.11</td>\n",
       "      <td>9.17</td>\n",
       "      <td>9.88</td>\n",
       "      <td>0</td>\n",
       "      <td>1</td>\n",
       "      <td>Indian</td>\n",
       "      <td>2021</td>\n",
       "      <td>RCB</td>\n",
       "    </tr>\n",
       "    <tr>\n",
       "      <th>1</th>\n",
       "      <td>2</td>\n",
       "      <td>Avesh Khan</td>\n",
       "      <td>8</td>\n",
       "      <td>8</td>\n",
       "      <td>30</td>\n",
       "      <td>231</td>\n",
       "      <td>14</td>\n",
       "      <td>3/32</td>\n",
       "      <td>16.50</td>\n",
       "      <td>7.70</td>\n",
       "      <td>12.85</td>\n",
       "      <td>0</td>\n",
       "      <td>0</td>\n",
       "      <td>Indian</td>\n",
       "      <td>2021</td>\n",
       "      <td>DC</td>\n",
       "    </tr>\n",
       "    <tr>\n",
       "      <th>2</th>\n",
       "      <td>3</td>\n",
       "      <td>Chris Morris</td>\n",
       "      <td>7</td>\n",
       "      <td>7</td>\n",
       "      <td>26</td>\n",
       "      <td>224</td>\n",
       "      <td>14</td>\n",
       "      <td>4/23</td>\n",
       "      <td>16.00</td>\n",
       "      <td>8.61</td>\n",
       "      <td>11.14</td>\n",
       "      <td>1</td>\n",
       "      <td>0</td>\n",
       "      <td>Overseas</td>\n",
       "      <td>2021</td>\n",
       "      <td>RR</td>\n",
       "    </tr>\n",
       "    <tr>\n",
       "      <th>3</th>\n",
       "      <td>4</td>\n",
       "      <td>Rahul Chahar</td>\n",
       "      <td>7</td>\n",
       "      <td>7</td>\n",
       "      <td>28</td>\n",
       "      <td>202</td>\n",
       "      <td>11</td>\n",
       "      <td>4/27</td>\n",
       "      <td>18.36</td>\n",
       "      <td>7.21</td>\n",
       "      <td>15.27</td>\n",
       "      <td>1</td>\n",
       "      <td>0</td>\n",
       "      <td>Indian</td>\n",
       "      <td>2021</td>\n",
       "      <td>MI</td>\n",
       "    </tr>\n",
       "    <tr>\n",
       "      <th>4</th>\n",
       "      <td>5</td>\n",
       "      <td>Rashid Khan</td>\n",
       "      <td>7</td>\n",
       "      <td>7</td>\n",
       "      <td>28</td>\n",
       "      <td>172</td>\n",
       "      <td>10</td>\n",
       "      <td>3/36</td>\n",
       "      <td>17.20</td>\n",
       "      <td>6.14</td>\n",
       "      <td>16.80</td>\n",
       "      <td>0</td>\n",
       "      <td>0</td>\n",
       "      <td>Overseas</td>\n",
       "      <td>2021</td>\n",
       "      <td>SRH</td>\n",
       "    </tr>\n",
       "  </tbody>\n",
       "</table>\n",
       "</div>"
      ],
      "text/plain": [
       "  POS         PLAYER Mat Inns  Ov Runs Wkts   BBI    Avg  Econ     SR 4w 5w  \\\n",
       "0   1  Harshal Patel   7    7  28  257   17  5/27  15.11  9.17   9.88  0  1   \n",
       "1   2     Avesh Khan   8    8  30  231   14  3/32  16.50  7.70  12.85  0  0   \n",
       "2   3   Chris Morris   7    7  26  224   14  4/23  16.00  8.61  11.14  1  0   \n",
       "3   4   Rahul Chahar   7    7  28  202   11  4/27  18.36  7.21  15.27  1  0   \n",
       "4   5    Rashid Khan   7    7  28  172   10  3/36  17.20  6.14  16.80  0  0   \n",
       "\n",
       "  Nationality Season Team  \n",
       "0      Indian   2021  RCB  \n",
       "1      Indian   2021   DC  \n",
       "2    Overseas   2021   RR  \n",
       "3      Indian   2021   MI  \n",
       "4    Overseas   2021  SRH  "
      ]
     },
     "execution_count": 26,
     "metadata": {},
     "output_type": "execute_result"
    }
   ],
   "source": [
    "'''\n",
    "This snippet will scrape data for the most wickets by players from all the team across different seasons of IPL\n",
    "'''\n",
    "\n",
    "season_url = \"https://www.iplt20.com/stats/{}/most-wickets\"\n",
    "driver.get(\"https://www.iplt20.com/stats/{}/most-wickets\".format('2021'))\n",
    "table_heading = driver.find_element_by_xpath(\"//table//tr[contains(@class, 'top-players__header')]\")\n",
    "globals()['column_values'] = list(table_heading.get_attribute(\"innerText\").split())\n",
    "column_values.extend(['Nationality', 'Season', 'Team'])\n",
    "\n",
    "df_wickets = pd.DataFrame(columns = column_values)\n",
    "\n",
    "for season in range(2021, 2007, -1):\n",
    "    driver.get(season_url.format(season))\n",
    "    page_scrape(season, df_wickets)\n",
    "    sys.stdout.write('\\rData scraping completed for year \\033[0;37;40m %d ' %season)\n",
    "    sys.stdout.flush()\n",
    "\n",
    "df_wickets.head() # displaying top 5 rows from the dataframe"
   ]
  },
  {
   "cell_type": "markdown",
   "metadata": {
    "slideshow": {
     "slide_type": "slide"
    }
   },
   "source": [
    "## Writing dataframes to an Excel sheet \n",
    "***\n",
    "This is used to write two dataframes in different sheets of excel file\n",
    "***"
   ]
  },
  {
   "cell_type": "code",
   "execution_count": 10,
   "metadata": {
    "slideshow": {
     "slide_type": "slide"
    }
   },
   "outputs": [],
   "source": [
    "writer = pd.ExcelWriter('ipl_data.xlsx', engine='xlsxwriter')\n",
    "\n",
    "# Write each dataframe to a different worksheet.\n",
    "df_runs.to_excel(writer, sheet_name='most runs')\n",
    "df_wickets.to_excel(writer, sheet_name='most wickets')\n",
    "\n",
    "# Close the Pandas Excel writer and output the Excel file.\n",
    "writer.save()"
   ]
  },
  {
   "cell_type": "markdown",
   "metadata": {
    "slideshow": {
     "slide_type": "slide"
    }
   },
   "source": [
    "## Sending mail of the table\n",
    "***\n",
    "This sends the mail of the generated report to the provided mail address. For example purpose I've used my both the email Ids\n",
    "***"
   ]
  },
  {
   "cell_type": "code",
   "execution_count": 11,
   "metadata": {
    "slideshow": {
     "slide_type": "slide"
    }
   },
   "outputs": [
    {
     "name": "stdout",
     "output_type": "stream",
     "text": [
      "Please enter your account password: ········\n",
      "Request successfully submitted\n",
      "\n",
      "Mail has been sent\n"
     ]
    }
   ],
   "source": [
    "'''\n",
    "Sending mail with attached excel file that we created in the above snippet\n",
    "'''\n",
    "\n",
    "import smtplib\n",
    "from email.mime.multipart import MIMEMultipart\n",
    "from email.mime.text import MIMEText\n",
    "from email.mime.base import MIMEBase\n",
    "from email import encoders\n",
    "import getpass\n",
    "\n",
    "fromaddr = 'uditpandey97@gmail.com'\n",
    "toaddr = ['uditpandeyofficial@gmail.com']\n",
    "password = getpass.getpass(prompt='Please enter your account password: ')\n",
    "\n",
    "msg = MIMEMultipart()\n",
    "\n",
    "msg['From'] = fromaddr\n",
    "msg['To'] = \", \".join(toaddr)\n",
    "msg['Subject'] = \"IPL Data\" #Subject of the mail\n",
    "\n",
    "body = \"Hey, please find attached document (Excel) with data for most runs and most wickets\"\n",
    "\n",
    "msg.attach(MIMEText(body, 'plain'))\n",
    "\n",
    "filename = \"IPL_Data.xlsx\"  #file name that would show up on the mail\n",
    "attachment = open(r\"C:\\Users\\KUSH\\Desktop\\WebScrapping\\ipl_data.xlsx\", \n",
    "\"rb\")\n",
    "\n",
    "part = MIMEBase('application', 'octet-stream')\n",
    "part.set_payload((attachment).read())\n",
    "encoders.encode_base64(part)\n",
    "part.add_header('Content-Disposition', \"attachment; filename= %s\" % filename)\n",
    "\n",
    "msg.attach(part)\n",
    "\n",
    "server = smtplib.SMTP('smtp.gmail.com', 587)\n",
    "server.starttls()\n",
    "try:\n",
    "    server.login(fromaddr, password) #Type Password\n",
    "    server.sendmail(fromaddr, toaddr, msg.as_string())\n",
    "except Exception as ex:\n",
    "    print(\"Your password is wrong\")\n",
    "else:     # If all the statement inside try block runs successfully and doesn't raise any exception then else block will execute\n",
    "    print(\"Request successfully submitted\")\n",
    "    print(\"\\nMail has been sent\")\n",
    "finally:\n",
    "    server.quit()\n",
    "attachment.close()"
   ]
  }
 ],
 "metadata": {
  "kernelspec": {
   "display_name": "Python 3",
   "language": "python",
   "name": "python3"
  },
  "language_info": {
   "codemirror_mode": {
    "name": "ipython",
    "version": 3
   },
   "file_extension": ".py",
   "mimetype": "text/x-python",
   "name": "python",
   "nbconvert_exporter": "python",
   "pygments_lexer": "ipython3",
   "version": "3.7.6"
  }
 },
 "nbformat": 4,
 "nbformat_minor": 4
}
